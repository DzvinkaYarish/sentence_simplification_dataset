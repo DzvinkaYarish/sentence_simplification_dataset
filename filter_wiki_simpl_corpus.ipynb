{
 "cells": [
  {
   "cell_type": "code",
   "execution_count": 1,
   "metadata": {},
   "outputs": [],
   "source": [
    "from nltk.translate.chrf_score import sentence_chrf"
   ]
  },
  {
   "cell_type": "code",
   "execution_count": null,
   "metadata": {},
   "outputs": [],
   "source": [
    "WIKI_PATH = 'aligned-good-0.67.txt'"
   ]
  },
  {
   "cell_type": "code",
   "execution_count": 2,
   "metadata": {},
   "outputs": [
    {
     "data": {
      "text/plain": [
       "154805"
      ]
     },
     "execution_count": 2,
     "metadata": {},
     "output_type": "execute_result"
    }
   ],
   "source": [
    "data = []\n",
    "\n",
    "with open(WIKI_PATH) as f:\n",
    "    while True:\n",
    "        l = f.readline()\n",
    "        if not l:\n",
    "            break\n",
    "        data.append(l.split('\\t'))\n",
    "\n",
    "len(data)"
   ]
  },
  {
   "cell_type": "code",
   "execution_count": 5,
   "metadata": {},
   "outputs": [
    {
     "data": {
      "text/plain": [
       "103341"
      ]
     },
     "execution_count": 5,
     "metadata": {},
     "output_type": "execute_result"
    }
   ],
   "source": [
    "i = 0\n",
    "for n, s, scr in data:\n",
    "    if len(n.split()) - len(s.split()):\n",
    "        i += 1\n",
    "i"
   ]
  },
  {
   "cell_type": "code",
   "execution_count": 5,
   "metadata": {},
   "outputs": [
    {
     "data": {
      "text/plain": [
       "103341"
      ]
     },
     "execution_count": 5,
     "metadata": {},
     "output_type": "execute_result"
    }
   ],
   "source": [
    "data_no_same_s = [ [n,s,float(scr)] for n,s,scr in data if len(n.split()) - len(s.split())]\n",
    "len(data_no_same_s)"
   ]
  },
  {
   "cell_type": "code",
   "execution_count": 6,
   "metadata": {},
   "outputs": [
    {
     "name": "stdout",
     "output_type": "stream",
     "text": [
      "0.6246026450943848\n",
      "0.18837896602959325\n",
      "0.7946661488377078\n"
     ]
    }
   ],
   "source": [
    "import random\n",
    "\n",
    "chrfs = []\n",
    "\n",
    "diff = []\n",
    "\n",
    "for i in range(5000):\n",
    "    n,s,scr = random.choice(data_no_same_s)\n",
    "    chrfs.append(sentence_chrf(n, s))\n",
    "    diff.append(abs(float(scr) - chrfs[-1]))\n",
    "\n",
    "print(sum(chrfs)/len(chrfs))\n",
    "print(sum(diff) / len(diff))\n",
    "print(sum([float(k[2]) for k in data_no_same_s]) / len(data_no_same_s))    "
   ]
  },
  {
   "cell_type": "code",
   "execution_count": 21,
   "metadata": {},
   "outputs": [
    {
     "name": "stdout",
     "output_type": "stream",
     "text": [
      "52872\n",
      "0\n"
     ]
    }
   ],
   "source": [
    "i = 0\n",
    "j = 0\n",
    "for n,s,scr in data_no_same_s:\n",
    "    if float(scr) > 0.7 and sentence_chrf(n, s) > 0.6:\n",
    "        i += 1\n",
    "\n",
    "i"
   ]
  },
  {
   "cell_type": "code",
   "execution_count": 8,
   "metadata": {},
   "outputs": [
    {
     "name": "stdout",
     "output_type": "stream",
     "text": [
      "35377\n"
     ]
    }
   ],
   "source": [
    "import json\n",
    "d = {'level1': [], 'level2': []}\n",
    "for n,s,scr in data_no_same_s:\n",
    "    if float(scr) > 0.7 and sentence_chrf(n, s) > 0.7 and len(n.split()) < 40:\n",
    "        d['level1'].append(s)\n",
    "        d['level2'].append(n)\n",
    "print(len(d['level1']))\n",
    "        \n",
    "with open('data/data_wiki.json', 'w') as f:\n",
    "    f.write(json.dumps(d))\n"
   ]
  },
  {
   "cell_type": "code",
   "execution_count": null,
   "metadata": {},
   "outputs": [],
   "source": []
  }
 ],
 "metadata": {
  "kernelspec": {
   "display_name": "Python 3",
   "language": "python",
   "name": "python3"
  },
  "language_info": {
   "codemirror_mode": {
    "name": "ipython",
    "version": 3
   },
   "file_extension": ".py",
   "mimetype": "text/x-python",
   "name": "python",
   "nbconvert_exporter": "python",
   "pygments_lexer": "ipython3",
   "version": "3.6.5"
  }
 },
 "nbformat": 4,
 "nbformat_minor": 2
}
